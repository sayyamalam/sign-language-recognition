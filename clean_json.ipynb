{
 "cells": [
  {
   "cell_type": "code",
   "execution_count": 78,
   "id": "e8ef42e4",
   "metadata": {},
   "outputs": [],
   "source": [
    "import pandas as pd\n",
    "import json\n",
    "import subprocess\n",
    "from concurrent.futures import ThreadPoolExecutor\n",
    "from tqdm import tqdm\n",
    "import os\n"
   ]
  },
  {
   "cell_type": "code",
   "execution_count": 79,
   "id": "8037b244",
   "metadata": {},
   "outputs": [],
   "source": [
    "def clean_json_file(input_path, output_dir, max_workers=20):\n",
    "    \"\"\"\n",
    "    Liest eine JSON-Datei mit Videoinformationen, prüft die YouTube-URLs auf Verfügbarkeit,\n",
    "    filtert ungültige raus und speichert die bereinigte Version im Zielordner.\n",
    "\n",
    "    :param input_path: Pfad zur Eingabedatei (.json)\n",
    "    :param output_dir: Zielordner, in dem die bereinigte Datei gespeichert wird\n",
    "    :param max_workers: Anzahl paralleler yt-dlp-Prozesse (Standard: 20)\n",
    "    \"\"\"\n",
    "\n",
    "    def is_youtube_video_available(url):\n",
    "        return subprocess.call(\n",
    "            [\"yt-dlp\", \"--skip-download\", \"--quiet\", \"--no-warnings\", \"--print\", \"title\", url],\n",
    "            stdout=subprocess.DEVNULL,\n",
    "            stderr=subprocess.DEVNULL\n",
    "        ) == 0\n",
    "\n",
    "    # Datei laden\n",
    "    df = pd.read_json(input_path)\n",
    "    if 'review' in df.columns:\n",
    "        df = df.drop(columns='review')\n",
    "\n",
    "    # URLs prüfen (parallel mit Fortschrittsanzeige)\n",
    "    with ThreadPoolExecutor(max_workers=max_workers) as executor:\n",
    "        df['available'] = list(tqdm(executor.map(is_youtube_video_available, df['url']), total=len(df)))\n",
    "\n",
    "    # Nur gültige behalten\n",
    "    df_clean = df[df['available'] == True]\n",
    "\n",
    "    # Zielpfad vorbereiten\n",
    "    os.makedirs(output_dir, exist_ok=True)\n",
    "    filename = os.path.basename(input_path).replace(\".json\", \"_clean.json\")\n",
    "    output_path = os.path.join(output_dir, filename)\n",
    "\n",
    "    # Als JSON speichern\n",
    "    with open(output_path, \"w\") as f:\n",
    "        json.dump(df_clean.to_dict(orient=\"records\"), f, indent=2)\n",
    "\n",
    "    print(f\"Gespeichert: {output_path} ({len(df_clean)} gültige Einträge)\")\n"
   ]
  },
  {
   "cell_type": "code",
   "execution_count": null,
   "id": "e2b28cfc",
   "metadata": {},
   "outputs": [
    {
     "name": "stderr",
     "output_type": "stream",
     "text": [
      "100%|██████████| 5287/5287 [1:06:02<00:00,  1.33it/s]\n"
     ]
    },
    {
     "name": "stdout",
     "output_type": "stream",
     "text": [
      "Gespeichert: /Users/sami/Desktop/MS-ASL/meta/cleaned/MSASL_val_clean.json (3297 gültige Einträge)\n"
     ]
    },
    {
     "name": "stderr",
     "output_type": "stream",
     "text": [
      "100%|██████████| 4172/4172 [55:25<00:00,  1.25it/s]  "
     ]
    },
    {
     "name": "stdout",
     "output_type": "stream",
     "text": [
      "Gespeichert: /Users/sami/Desktop/MS-ASL/meta/cleaned/MSASL_test_clean.json (2847 gültige Einträge)\n"
     ]
    },
    {
     "name": "stderr",
     "output_type": "stream",
     "text": [
      "\n"
     ]
    }
   ],
   "source": [
    "clean_json_file(\n",
    "    input_path='meta/MSASL_train.json',\n",
    "    output_dir='/Users/sami/Desktop/MS-ASL/meta/cleaned'\n",
    ")\n",
    "\n",
    "clean_json_file(\n",
    "    input_path='meta/MSASL_val.json',\n",
    "    output_dir='/Users/sami/Desktop/MS-ASL/meta/cleaned'\n",
    ")\n",
    "\n",
    "clean_json_file(\n",
    "    input_path='meta/MSASL_test.json',\n",
    "    output_dir='/Users/sami/Desktop/MS-ASL/meta/cleaned'\n",
    ")\n"
   ]
  },
  {
   "cell_type": "code",
   "execution_count": null,
   "id": "f2e015fa",
   "metadata": {},
   "outputs": [],
   "source": []
  }
 ],
 "metadata": {
  "kernelspec": {
   "display_name": "msasl-env",
   "language": "python",
   "name": "python3"
  },
  "language_info": {
   "codemirror_mode": {
    "name": "ipython",
    "version": 3
   },
   "file_extension": ".py",
   "mimetype": "text/x-python",
   "name": "python",
   "nbconvert_exporter": "python",
   "pygments_lexer": "ipython3",
   "version": "3.10.18"
  }
 },
 "nbformat": 4,
 "nbformat_minor": 5
}
