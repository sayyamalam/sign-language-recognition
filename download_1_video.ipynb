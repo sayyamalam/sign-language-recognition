{
  "cells": [
    {
      "cell_type": "markdown",
      "metadata": {
        "id": "view-in-github",
        "colab_type": "text"
      },
      "source": [
        "<a href=\"https://colab.research.google.com/github/sayyamalam/sign-language-recognition/blob/main/download_1_video.ipynb\" target=\"_parent\"><img src=\"https://colab.research.google.com/assets/colab-badge.svg\" alt=\"Open In Colab\"/></a>"
      ]
    },
    {
      "cell_type": "markdown",
      "metadata": {
        "id": "SKQ4bH7qMGrA"
      },
      "source": [
        "# Ein Colab-Abo optimal nutzen\n",
        "\n"
      ]
    },
    {
      "cell_type": "code",
      "source": [
        "from google.colab import drive\n",
        "drive.mount('/content/drive')"
      ],
      "metadata": {
        "id": "x4hjxuVVZRGc",
        "outputId": "2afc9782-728b-4d3b-d8f9-e974f0559fa9",
        "colab": {
          "base_uri": "https://localhost:8080/"
        }
      },
      "execution_count": null,
      "outputs": [
        {
          "output_type": "stream",
          "name": "stdout",
          "text": [
            "Mounted at /content/drive\n"
          ]
        }
      ]
    },
    {
      "cell_type": "markdown",
      "metadata": {
        "id": "QMMqmdiYMkvi"
      },
      "source": [
        "## Schnellere GPUs\n",
        "\n",
        "<p>Nutzer, die eines der kostenpflichtigen Colab-Abos erworben haben, haben Zugriff auf schnellere GPUs und mehr Arbeitsspeicher. Sie können die GPU‑Einstellungen Ihres Notebooks im Menü unter <code>„Laufzeit“ &gt; „Laufzeittyp ändern“</code> ändern, um aus mehreren Beschleunigungsoptionen auszuwählen, je nach Verfügbarkeit.</p>\n",
        "<p>Mit der kostenlosen Version von Colab haben Sie Zugriff auf die T4‑GPUs von Nvidia, die von Kontingentbeschränkungen und der Verfügbarkeit abhängen.</p>\n",
        "\n",
        "Sie können jederzeit sehen, welche GPU Ihnen zugewiesen wurde, indem Sie die folgende Zelle ausführen. Wenn das Ergebnis beim Ausführen der Codezelle unten „Not connected to a GPU“ lautet, dann können Sie die Laufzeit im Menü unter <code>Laufzeit &#62; Laufzeittyp ändern</code> ändern, um einen GPU-Beschleuniger zu aktivieren, und dann die Codezelle noch einmal ausführen."
      ]
    },
    {
      "cell_type": "code",
      "execution_count": null,
      "metadata": {
        "id": "23TOba33L4qf"
      },
      "outputs": [],
      "source": [
        "gpu_info = !nvidia-smi\n",
        "gpu_info = '\\n'.join(gpu_info)\n",
        "if gpu_info.find('failed') >= 0:\n",
        "  print('Not connected to a GPU')\n",
        "else:\n",
        "  print(gpu_info)"
      ]
    },
    {
      "cell_type": "code",
      "source": [],
      "metadata": {
        "id": "tlh6J_VEbq2o"
      },
      "execution_count": null,
      "outputs": []
    },
    {
      "cell_type": "markdown",
      "metadata": {
        "id": "Sa-IrJS1aRVJ"
      },
      "source": [
        "Um eine GPU mit Ihrem Notebook zu verwenden, wählen Sie im Menü <code>„Laufzeit“ &#62; „Laufzeittyp ändern“</code> und dann die gewünschte Option für die Hardwarebeschleunigung aus."
      ]
    },
    {
      "cell_type": "markdown",
      "metadata": {
        "id": "65MSuHKqNeBZ"
      },
      "source": [
        "## Mehr Speicher\n",
        "\n",
        "Nutzer, die eines der kostenpflichtigen Colab-Abos erworben haben, haben Zugriff auf VMs mit großem Arbeitsspeicher, sobald diese verfügbar sind. Leistungsstärkere GPUs werden immer mit VMs mit großem Arbeitsspeicher angeboten.\n",
        "Sie können jederzeit sehen, wie viel Speicher verfügbar ist, indem Sie die folgende Codezelle ausführen. Wenn das Ergebnis beim Ausführen der Codezelle unten „Not using a high-RAM runtime“ lautet, dann können Sie die Laufzeit für erweiterten RAM im Menü unter <code>„Laufzeit“ &#62; „Laufzeittyp ändern“</code> aktivieren. Wählen Sie dann unter der Ein/Aus-Schaltfläche „Laufzeitkonfiguration“ die Option „Erweiterter RAM“ aus. Führen Sie anschließend die Codezelle noch einmal aus."
      ]
    },
    {
      "cell_type": "code",
      "execution_count": null,
      "metadata": {
        "id": "V1G82GuO-tez"
      },
      "outputs": [],
      "source": [
        "from psutil import virtual_memory\n",
        "ram_gb = virtual_memory().total / 1e9\n",
        "print('Your runtime has {:.1f} gigabytes of available RAM\\n'.format(ram_gb))\n",
        "\n",
        "if ram_gb < 20:\n",
        "  print('Not using a high-RAM runtime')\n",
        "else:\n",
        "  print('You are using a high-RAM runtime!')"
      ]
    },
    {
      "cell_type": "markdown",
      "metadata": {
        "id": "BJW8Qi-pPpep"
      },
      "source": [
        "## Längere Laufzeiten\n",
        "\n",
        "Alle Colab-Laufzeiten werden nach einer bestimmten Zeit zurückgesetzt. Diese Zeitspanne ist kürzer, wenn die Laufzeit keinen Code ausführt. Nutzer von Colab Pro und Pro+ haben Zugriff auf längere Laufzeiten als Nutzer, die Colab kostenlos verwenden.\n",
        "\n",
        "## Ausführung im Hintergrund\n",
        "\n",
        "Nutzer von Colab Pro+ haben Zugriff auf die Ausführung im Hintergrund. Hierbei werden Notebooks weiterhin ausgeführt, nachdem Sie einen Browsertab geschlossen haben. Diese Funktion ist in Laufzeiten bei Pro+ immer aktiviert, sofern Recheneinheiten verfügbar sind.\n"
      ]
    },
    {
      "cell_type": "markdown",
      "metadata": {
        "id": "uLlTRcMM_h0k"
      },
      "source": [
        "## Lockerung der Ressourcenlimits in Colab Pro\n",
        "\n",
        "Sie können in Colab nicht unbegrenzt Ressourcen nutzen. Vermeiden Sie die Verwendung nicht benötigter Ressourcen, um Colab optimal zu verwenden. Nutzen Sie beispielsweise eine GPU-Laufzeit nur bei Bedarf und schließen Sie die Tabs in Colab immer, sobald Sie fertig sind.\n",
        "\n",
        "Wenn Sie an Ihr Ressourcenlimit kommen, können Sie über „Pay as you go“ mehr Recheneinheiten erwerben. Zum Kauf von Recheneinheiten über <a href=\"https://colab.research.google.com/signup\">Pay as you go</a> Recheneinheiten ist kein Abo erforderlich."
      ]
    },
    {
      "cell_type": "markdown",
      "metadata": {
        "id": "mm8FzEidvPs6"
      },
      "source": [
        "## Feedback geben\n",
        "\n",
        "<p>Falls Sie Feedback für uns haben, wenden Sie sich einfach an uns. Nutzen Sie dazu am besten die Option „Feedback geben...“ im Hilfemenü. Wenn in Colab Pro Nutzungslimits auftreten, sollten Sie Pro+ abonnieren.</p>\n",
        "<p>Sollten Fehler oder Probleme bei der Abrechnung &#40;Zahlungen&#41; für Colab Pro, Pro+ oder Pay As You Go Fehler oder andere Probleme auftreten, senden Sie bitte eine E-Mail an <a href=\"mailto:colab-billing@google.com\">colab-billing@google.com</a>.</p>"
      ]
    },
    {
      "cell_type": "markdown",
      "metadata": {
        "id": "qB3bdLe8jkAa"
      },
      "source": [
        "## Weitere Ressourcen\n",
        "\n",
        "### Mit Notebooks in Colab arbeiten\n",
        "- [Übersicht über Colab](/notebooks/basic_features_overview.ipynb)\n",
        "- [Leitfaden zu Markdown](/notebooks/markdown_guide.ipynb)\n",
        "- [Bibliotheken importieren und installieren](/notebooks/snippets/importing_libraries.ipynb)\n",
        "- [Notebooks in GitHub werden gespeichert und geladen](https://colab.research.google.com/github/googlecolab/colabtools/blob/main/notebooks/colab-github-demo.ipynb)\n",
        "- [Interaktive Formulare](/notebooks/forms.ipynb)\n",
        "- [Interaktive Widgets](/notebooks/widgets.ipynb)\n",
        "\n",
        "<a name=\"working-with-data\"></a>\n",
        "### Mit Daten arbeiten\n",
        "- [Daten laden: Drive, Tabellen und Google Cloud Storage](/notebooks/io.ipynb)\n",
        "- [Diagramme: Daten visualisieren](/notebooks/charts.ipynb)\n",
        "- [Erste Schritte mit BigQuery](/notebooks/bigquery.ipynb)\n",
        "\n",
        "### Machine Learning Crash Course\n",
        "Hier sehen Sie einige Notebooks aus dem Machine Learning Crash Course von Google. Weitere Informationen finden Sie auf der <a href=\"https://developers.google.com/machine-learning/crash-course/\">Website des vollständigen Kurses</a>.\n",
        "- [Einführung in Pandas DataFrame](https://colab.research.google.com/github/google/eng-edu/blob/main/ml/cc/exercises/pandas_dataframe_ultraquick_tutorial.ipynb)\n",
        "- [Lineare Regression mit tf.keras und synthetischen Daten](https://colab.research.google.com/github/google/eng-edu/blob/main/ml/cc/exercises/linear_regression_with_synthetic_data.ipynb)\n",
        "\n",
        "\n",
        "<a name=\"using-accelerated-hardware\"></a>\n",
        "### Beschleunigte Hardware verwenden\n",
        "- [TensorFlow mit GPUs](/notebooks/gpu.ipynb)\n",
        "- [TPUs in Colab](/notebooks/tpu.ipynb)"
      ]
    },
    {
      "cell_type": "markdown",
      "metadata": {
        "id": "RFm2S0Gijqo8"
      },
      "source": [
        "<a name=\"machine-learning-examples\"></a>\n",
        "\n",
        "## Beispiele für maschinelles Lernen\n",
        "\n",
        "Wenn Sie Interesse an Ende-zu-Ende-Beispielen für die interaktiven Analysen mit maschinellem Lernen haben, die Colab ermöglicht, sehen Sie sich die folgenden Anleitungen an, bei denen Modelle von <a href=\"https://tfhub.dev\">TensorFlow Hub</a> zum Einsatz kommen.\n",
        "\n",
        "Hier einige Beispiele:\n",
        "\n",
        "- <a href=\"https://tensorflow.org/hub/tutorials/tf2_image_retraining\">Erneutes Trainieren eines Bildklassifikators</a>: Erstellen Sie auf Grundlage eines zuvor trainierten Bildklassifikators ein Keras-Modell, mit dem Blumen auseinandergehalten werden können.\n",
        "- <a href=\"https://tensorflow.org/hub/tutorials/tf2_text_classification\">Textklassifizierung</a>: Klassifizieren Sie Filmrezensionen in der IMDB als <em>positiv</em> oder <em>negativ</em>.\n",
        "- <a href=\"https://tensorflow.org/hub/tutorials/tf2_arbitrary_image_stylization\">Stilübertragung</a>: Übertragen Sie den Stil eines Bildes, mithilfe von Deep Learning, auf ein anderes Bild.\n",
        "- <a href=\"https://tensorflow.org/hub/tutorials/retrieval_with_tf_hub_universal_encoder_qa\">Fragen und Antworten zum mehrsprachigen universellen Satz-Encoder</a>: Verwenden Sie zum Beantworten von Fragen aus dem SQuAD-Dataset ein Modell für maschinelles Lernen.\n",
        "- <a href=\"https://tensorflow.org/hub/tutorials/tweening_conv3d\">Videointerpolation</a>: Machen Sie eine Vorhersage darüber, was zwischen dem ersten und dem letzten Bild eines Videos geschah.\n"
      ]
    }
  ],
  "metadata": {
    "colab": {
      "name": "Ein Colab-Abo optimal nutzen",
      "provenance": [],
      "machine_shape": "hm",
      "include_colab_link": true
    },
    "kernelspec": {
      "display_name": "Python 3",
      "name": "python3"
    }
  },
  "nbformat": 4,
  "nbformat_minor": 0
}